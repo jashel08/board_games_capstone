{
 "cells": [
  {
   "cell_type": "markdown",
   "metadata": {},
   "source": [
    "Importing the libraries needed for the project, and reading in the first dataset (boardgames_ranks.csv)"
   ]
  },
  {
   "cell_type": "code",
   "execution_count": 2,
   "metadata": {},
   "outputs": [],
   "source": [
    "import pandas as pd\n",
    "import requests\n",
    "import numpy as np\n",
    "import xml.etree.ElementTree as ET\n",
    "import time\n",
    "import re\n",
    "\n",
    "df_board_game_rankings = pd.read_csv('.\\\\Data_Sets\\\\boardgames_ranks.csv')"
   ]
  },
  {
   "cell_type": "markdown",
   "metadata": {},
   "source": [
    "Data Read-in & Cleaning\n",
    "1) Reading in the same dataset under a different variable name to preserve the original.\n",
    "2) Filtering out board games with an overall rank of 0, as we only want games with an actual ranking.\n",
    "3) Creating dataframe df_bgr_top which constrains boardgames to those with an overall rank of 1 - 250.\n",
    "4) Replacing NaN values in the DataFrame with '0'\n",
    "5) Renaming fields.\n",
    "6) Converting field data types to necessary values.\n",
    "7) Rounding averages to 2 decimal points.\n",
    "8) Write file to csv for Tableau Visualization, no index.\n"
   ]
  },
  {
   "cell_type": "code",
   "execution_count": 4,
   "metadata": {},
   "outputs": [],
   "source": [
    "##1\n",
    "df_bgr2 = pd.read_csv('.\\\\Data_Sets\\\\boardgames_ranks.csv')\n",
    "\n",
    "##2\n",
    "zerorank = df_bgr2[(df_bgr2['rank'] == 0)].index\n",
    "df_bgr_nozero = pd.DataFrame(df_bgr2.drop(zerorank, inplace = True))\n",
    "\n",
    "##3\n",
    "df_bgr_top = pd.DataFrame(df_bgr2.loc[(df_bgr2['rank'] >=1) & (df_bgr2['rank'] <=250)])\n",
    "\n",
    "##4\n",
    "df_bgr_top.fillna(0, inplace=True)\n",
    "\n",
    "##5\n",
    "df_bgr_top.rename(columns={'id': 'BGG_ID', 'name': 'GAME_NAME', 'yearpublished': 'PUBLISH_YR', 'rank': 'OVERALL_RANK', 'bayesaverage': 'BAYES_AVG',\n",
    "                           'average': 'AVG_RATING','usersrated': 'USER_RATING', 'is_expansion': 'EXPANSION_IND', 'abstracts_rank': 'ABSTRACTS_RANK',\n",
    "                           'cgs_rank': 'CGS_RANK', 'childrensgames_rank': 'CHILDREN_GAME_RANK', 'familygames_rank': 'FAMILY_RANK', 'partygames_rank': 'PARTY_RANK',\n",
    "                           'strategygames_rank': 'STRATEGY_RANK', 'thematic_rank': 'THEMATIC_RANK', 'wargames_rank': 'WARGAME_RANK'}, inplace=True)\n",
    "\n",
    "##6\n",
    "convert_dict = {'BGG_ID': int,\n",
    "                'GAME_NAME': object,\n",
    "                'PUBLISH_YR': int,\n",
    "                'OVERALL_RANK': int,\n",
    "                'BAYES_AVG': float,\n",
    "                'AVG_RATING': float,\n",
    "                'USER_RATING': int,\n",
    "                'EXPANSION_IND': bool,\n",
    "                'ABSTRACTS_RANK': int,\n",
    "                'CGS_RANK': int,\n",
    "                'CHILDREN_GAME_RANK': int,\n",
    "                'FAMILY_RANK': int,\n",
    "                'PARTY_RANK': int,\n",
    "                'STRATEGY_RANK': int,\n",
    "                'THEMATIC_RANK': int,\n",
    "                'WARGAME_RANK': int}\n",
    "df_bgr_top = df_bgr_top.astype(convert_dict)\n",
    "\n",
    "#7\n",
    "df_bgr_top.BAYES_AVG = df_bgr_top.BAYES_AVG.round(2)\n",
    "df_bgr_top.AVG_RATING = df_bgr_top.AVG_RATING.round(2)\n",
    "\n",
    "#8\n",
    "df_bgr_top.to_csv('.\\\\Data_Sets\\\\Tableau_Board_Game_Rankings.csv', index=False)\n"
   ]
  },
  {
   "cell_type": "markdown",
   "metadata": {},
   "source": [
    "Extracting Information from BGG API, Merging Dataframes, Cleaning\n",
    "1) Extracting list of 250 BGG_IDs to feed into BGG_XML_API_2\n",
    "2) Setting up variables and list storage for the loop.\n",
    "3) Iterate through all 250 BGG_IDs, and request XML for each. Sleeping when BGG_ID %7 is equal to 0, to adhere to API usage terms.\n",
    "4) Parse XML for Mechanic Name and ID.\n",
    "5) Extract all mechanics associated with a game, and append to a list.\n",
    "6) Create pd.Series from lists.\n",
    "7) Create pd.Dataframe from multiple series.\n",
    "8) Convert field data types to necessary values.\n",
    "9) Perform left join/merge between board game rankings dataframe and board game mechanics dataframe, on BGG_ID\n",
    "10) Rounding averages to 2 places.\n",
    "11) Write merged Dataframe to CSV, no index.\n",
    "\n",
    "***NOTE - This block will take 6-7 minutes to run."
   ]
  },
  {
   "cell_type": "code",
   "execution_count": 6,
   "metadata": {},
   "outputs": [],
   "source": [
    "##1\n",
    "bg_ids = df_bgr_top[str('BGG_ID')].values.tolist()\n",
    "\n",
    "##2\n",
    "API_base_string = 'https://boardgamegeek.com/xmlapi2/thing?id='\n",
    "mech_id_ls = []\n",
    "mech_name_ls = []\n",
    "mech_bggid_ls = []\n",
    "\n",
    "##3\n",
    "for id in bg_ids:\n",
    "    api_rec = requests.get(API_base_string + str(id))\n",
    "    api_data = api_rec.content\n",
    "    root = ET.fromstring(api_data)\n",
    "    if id%4 == 0: \n",
    "      time.sleep(5)\n",
    "\n",
    "##4,5\n",
    "      for item in root:\n",
    "        for link in item.findall('link'):\n",
    "          if(link.get('type') == 'boardgamemechanic'):\n",
    "            mech_id_ls.append(link.get('id'))\n",
    "            mech_name_ls.append(link.get('value'))\n",
    "            mech_bggid_ls.append(item.get('id'))\n",
    "    else:\n",
    "      for item in root:\n",
    "        for link in item.findall('link'):\n",
    "           if(link.get('type') == 'boardgamemechanic'):\n",
    "            mech_id_ls.append(link.get('id'))\n",
    "            mech_name_ls.append(link.get('value'))\n",
    "            mech_bggid_ls.append(item.get('id'))\n",
    "\n",
    "##6       \n",
    "mech_bggid_ser = pd.Series(mech_bggid_ls)\n",
    "mech_id_ser = pd.Series(mech_id_ls)\n",
    "mech_name_ser = pd.Series(mech_name_ls)\n",
    "\n",
    "##7\n",
    "mechv3_frame = {'BGG_ID': mech_bggid_ser, 'MECH_ID': mech_id_ser, 'MECH_NAME': mech_name_ser}\n",
    "df_mechv3 = pd.DataFrame(mechv3_frame)\n",
    "\n",
    "##8\n",
    "mech_convert_dict = {'BGG_ID': int,\n",
    "                     'MECH_ID': object}\n",
    "df_mechv3 = df_mechv3.astype(mech_convert_dict)\n",
    "\n",
    "##9\n",
    "df_gamemech_merge = pd.merge(df_bgr_top, df_mechv3,on='BGG_ID',how='left')\n",
    "df_game_mech = pd.DataFrame(df_gamemech_merge)\n",
    "\n",
    "##10\n",
    "df_game_mech.BAYES_AVG = df_game_mech.BAYES_AVG.round(2)\n",
    "df_game_mech.AVG_RATING = df_game_mech.AVG_RATING.round(2)\n",
    "\n",
    "##11\n",
    "df_game_mech.to_csv('.\\\\Data_Sets\\\\Tableau_Games_Mechanics.csv', index=False)\n",
    "\n",
    "\n"
   ]
  },
  {
   "cell_type": "markdown",
   "metadata": {},
   "source": [
    "Create Pandas Pivot table from Mechanics\n",
    "1) Create small pivot table to count recurrence of mechanics in top 250 board games\n",
    "2) Flatten index/columns of pivot for easier manipulation\n",
    "3) Rename Pivot Table columns\n",
    "4) Write Pivot Table to csv, no index.\n",
    " "
   ]
  },
  {
   "cell_type": "code",
   "execution_count": 7,
   "metadata": {},
   "outputs": [],
   "source": [
    "##1\n",
    "df_gamemech_pivot = df_game_mech.pivot_table(values='BGG_ID', index=('MECH_NAME'),columns=None, aggfunc='count')\n",
    "\n",
    "##2\n",
    "flat_df_gamemech_pivot = df_gamemech_pivot.reset_index()\n",
    "\n",
    "##3\n",
    "name_dict = {'MECH_NAME': 'MECHANIC_NAME', 'BGG_ID': 'MECHANIC_COUNT'}\n",
    "flat_df_gamemech_pivot.rename(columns=name_dict,inplace=True)\n",
    "flat_df_gamemech_pivot.sort_values('MECHANIC_COUNT',ascending=False, inplace=True)\n",
    "\n",
    "##4\n",
    "flat_df_gamemech_pivot.to_csv('.\\\\Data_Sets\\\\Tableau_Game_Mechanic_Pivot.csv', index=False)\n"
   ]
  },
  {
   "cell_type": "markdown",
   "metadata": {},
   "source": [
    "Designers\n",
    "1) Read in Designers with Location CSV file.\n",
    "2) Creating new dataframe constrained by only the BGG_IDs existing in the top 250.\n",
    "3) Replace NaN values with 'UNK'.\n",
    "4) Merge Game & Designer Dataframes\n",
    "5) Output to CSV, no index."
   ]
  },
  {
   "cell_type": "code",
   "execution_count": 8,
   "metadata": {},
   "outputs": [],
   "source": [
    "##1\n",
    "df_bgdesigner_loc = pd.read_csv('.\\\\Data_Sets\\\\BGG_Designer_Location.csv')\n",
    "\n",
    "##2\n",
    "df_topbgdes_loc = pd.DataFrame(df_bgdesigner_loc.loc[df_bgdesigner_loc['BGG_ID'].isin(bg_ids)])\n",
    "df_topbgdes_loc.reset_index(drop=True, inplace=True)\n",
    "\n",
    "##3\n",
    "df_topbgdes_loc.fillna('UNKNOWN', inplace=True)\n",
    "\n",
    "##4\n",
    "df_game_des_merge = pd.merge(df_bgr_top, df_topbgdes_loc,on='BGG_ID',how='left')\n",
    "df_game_des = pd.DataFrame(df_game_des_merge)\n",
    "\n",
    "##5\n",
    "df_game_des.to_csv('.\\\\Data_Sets\\\\Tableau_Games_Designer_Full.csv', index=False)"
   ]
  },
  {
   "cell_type": "markdown",
   "metadata": {},
   "source": [
    "Designer Pivot Table\n",
    "\n",
    "1) Create pivot from board game ranks and designer\n",
    "2) Rename Columns\n",
    "3) Sort Descending by Count\n",
    "4) Output to CSV, no index."
   ]
  },
  {
   "cell_type": "code",
   "execution_count": 16,
   "metadata": {},
   "outputs": [],
   "source": [
    "##1\n",
    "df_gamedes_pivot = df_game_des.pivot_table(values='DESIGNER_NAME', index=('DESIGNER_POB_CTRY'),columns=None, aggfunc=pd.Series.nunique)\n",
    "flat_df_gamedes_pivot = df_gamedes_pivot.reset_index()\n",
    "\n",
    "##2\n",
    "name_dict = {'DESIGNER_POB_CTRY': 'DESIGNER_COUNTRY', 'DESIGNER_NAME': 'DESIGNER_COUNT'}\n",
    "flat_df_gamedes_pivot.rename(columns=name_dict,inplace=True)\n",
    "\n",
    "##3\n",
    "flat_df_gamedes_pivot.sort_values('DESIGNER_COUNT',ascending=False, inplace=True)\n",
    "\n",
    "##4\n",
    "flat_df_gamedes_pivot.to_csv('.\\\\Data_Sets\\\\Tableau_Game_Designer_Pivot.csv', index=False)\n"
   ]
  }
 ],
 "metadata": {
  "kernelspec": {
   "display_name": ".venv",
   "language": "python",
   "name": "python3"
  },
  "language_info": {
   "codemirror_mode": {
    "name": "ipython",
    "version": 3
   },
   "file_extension": ".py",
   "mimetype": "text/x-python",
   "name": "python",
   "nbconvert_exporter": "python",
   "pygments_lexer": "ipython3",
   "version": "3.12.4"
  }
 },
 "nbformat": 4,
 "nbformat_minor": 2
}
